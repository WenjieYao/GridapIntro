{
 "cells": [
  {
   "cell_type": "markdown",
   "metadata": {},
   "source": [
    "The computation cell is illustrated below---a rectangular domain with PML boundaries and a small design region at the center.\n",
    "\n",
    "<img src=\"ComputationCell.png\" alt=\"Drawing\" style=\"width: 600px;\"/>"
   ]
  },
  {
   "cell_type": "code",
   "execution_count": 1,
   "metadata": {
    "collapsed": true
   },
   "outputs": [
    {
     "name": "stdout",
     "output_type": "stream",
     "text": [
      "Info    : Clearing all models and views...\n",
      "Info    : Done clearing all models and views\n",
      "Info    : Meshing 1D...\n",
      "Info    : Meshing curve 1 (Line)\n",
      "Info    : Meshing curve 2 (Line)\n",
      "Info    : Meshing curve 3 (Line)\n",
      "Info    : Meshing curve 4 (Line)\n",
      "Info    : Meshing curve 5 (Line)\n",
      "Info    : Meshing curve 6 (Line)\n",
      "Info    : Meshing curve 7 (Line)\n",
      "Info    : Meshing curve 8 (Line)\n",
      "Info    : Meshing curve 9 (Line)\n",
      "Info    : Meshing curve 10 (Line)\n",
      "Info    : Meshing curve 11 (Line)\n",
      "Info    : Meshing curve 12 (Line)\n",
      "Info    : Meshing curve 13 (Line)\n",
      "Info    : Meshing curve 14 (Line)\n",
      "Info    : Meshing curve 15 (Line)\n",
      "Info    : Meshing curve 16 (Line)\n",
      "Info    : Meshing curve 17 (Line)\n",
      "Info    : Meshing curve 18 (Line)\n",
      "Info    : Meshing curve 19 (Line)\n",
      "Info    : Meshing curve 20 (Line)\n",
      "Info    : Meshing curve 21 (Line)\n",
      "Info    : Meshing curve 22 (Line)\n",
      "Info    : Meshing curve 23 (Line)\n",
      "Info    : Meshing curve 24 (Line)\n",
      "Info    : Meshing curve 25 (Line)\n",
      "Info    : Meshing curve 26 (Line)\n",
      "Info    : Meshing curve 27 (Line)\n",
      "Info    : Meshing curve 28 (Line)\n",
      "Info    : Meshing curve 29 (Circle)\n",
      "Info    : Meshing curve 30 (Circle)\n",
      "Info    : Done meshing 1D (0.006861 s)\n",
      "Info    : Meshing 2D...\n",
      "Info    : Meshing surface 1 (Plane, Frontal)\n",
      "Info    : Meshing surface 2 (Plane, Frontal)\n",
      "Info    : Meshing surface 3 (Plane, Frontal)\n",
      "Info    : Meshing surface 4 (Plane, Frontal)\n",
      "Info    : Meshing surface 5 (Plane, Frontal)\n",
      "Info    : Meshing surface 6 (Plane, Frontal)\n",
      "Info    : Meshing surface 7 (Plane, Frontal)\n",
      "Info    : Meshing surface 8 (Plane, Frontal)\n",
      "Info    : Meshing surface 9 (Plane, Frontal)\n",
      "Info    : Meshing surface 10 (Plane, Frontal)\n",
      "Info    : Meshing surface 11 (Plane, Frontal)\n",
      "Info    : Done meshing 2D (0.589529 s)\n",
      "Info    : 13401 vertices 27341 elements\n",
      "Info    : Writing 't2.msh'...\n",
      "Info    : Done writing 't2.msh'\n",
      "Info    : Reading 't2.msh'...\n",
      "Info    : 13400 nodes\n",
      "Info    : 27094 elements\n",
      "Info    : Done reading 't2.msh'\n"
     ]
    },
    {
     "name": "stderr",
     "output_type": "stream",
     "text": [
      "Error   : Unknown number option 'General.NativeFileChooser'\n"
     ]
    },
    {
     "data": {
      "text/plain": [
       "g_p (generic function with 2 methods)"
      ]
     },
     "execution_count": 1,
     "metadata": {},
     "output_type": "execute_result"
    }
   ],
   "source": [
    "using Gmsh\n",
    "using Gridap\n",
    "using GridapGmsh\n",
    "using SparseArrays\n",
    "using Gridap.Geometry\n",
    "using ChainRules\n",
    "using Zygote\n",
    "using NLopt\n",
    "import Gmsh: gmsh\n",
    "import ChainRules: rrule\n",
    "\n",
    "Gridap.outer(a::Number,b::Number) = a * b\n",
    "Gridap.Helpers.operate(::typeof(tanh),x::Float64)=tanh(x)\n",
    "\n",
    "include(\"MeshGenerator.jl\")\n",
    "include(\"PML.jl\")\n",
    "include(\"Helper.jl\")\n",
    "include(\"FilterAndThreshold.jl\")\n",
    "\n",
    "# Physical parameters \n",
    "λ = 1.0          # Wavelength (arbitrary unit)\n",
    "k = 2*π/λ        # Wave number \n",
    "ω = k            # c=1\n",
    "ϵ_1 = 1.0        # Relative electric permittivity for material 1\n",
    "ϵ_2 = 3.0        # Relative electric permittivity for material 2\n",
    "μ = 1.0          # Relative magnetic permeability for all materials\n",
    "\n",
    "# Geometry parameters of the mesh\n",
    "L = 4.0          # Length of the normal region\n",
    "H = 4.0          # Height of the normal region\n",
    "d_pml = 0.8      # Thickness of the PML\n",
    "L_d = L/2        # Length of the design region\n",
    "H_d = H/5        # Height of the design region\n",
    "r_t = L/40       # Radius of the target circle\n",
    "y_t = -(H_d+H)/4 # y-position of the target circle (x fixed to 0)\n",
    "LH = [L,H]\n",
    "\n",
    "# Characteristic length (controls the resolution, smaller the finer)\n",
    "resol = 10       # Number of points per wavelength\n",
    "l_0 = λ/resol    # Normal region\n",
    "l_d = l_0/5      # Design region\n",
    "l_pml = 2*l_0    # PML \n",
    "\n",
    "# Point source location\n",
    "pos = [0.0,H/2.0*0.9]\n",
    "δ = λ/resol      # Gaussian point source width\n",
    "I = 1e4          # Gaussian point source amplitude\n",
    "\n",
    "# PML parameters\n",
    "R = 1e-4         # Tolerence for PML reflection \n",
    "σ = -3/4*log(R)/d_pml/sqrt(ϵ_1)\n",
    "\n",
    "# Generate mesh\n",
    "MeshGenerator(L,H,L_d,H_d,r_t,y_t,d_pml,l_0,l_d,l_pml)\n",
    "include(\"GridapSetup.jl\")\n",
    "include(\"Objective.jl\")"
   ]
  },
  {
   "cell_type": "code",
   "execution_count": 6,
   "metadata": {},
   "outputs": [
    {
     "name": "stdout",
     "output_type": "stream",
     "text": [
      "g_value = g_p(p) = 22381.946028337\n",
      "g_value = g_p(p) = 22178.24968517569\n",
      "g_value = g_p(p) = 22438.008868762285\n",
      "g_value = g_p(p) = 22460.40105681969\n",
      "g_value = g_p(p) = 22494.06269684531\n",
      "g_value = g_p(p) = 22502.905492063415\n",
      "g_value = g_p(p) = 22503.622716313857\n",
      "g_value = g_p(p) = 22503.983054791835\n",
      "g_value = g_p(p) = 22504.151508525894\n",
      "g_value = g_p(p) = 22504.23076610478\n",
      "g_value = g_p(p) = 22504.268256833973\n",
      "g_value = g_p(p) = 22504.28604011823\n",
      "g_value = g_p(p) = 22504.29448693047\n",
      "g_value = g_p(p) = 22504.298501683486\n",
      "g_value = g_p(p) = 22504.300410486383\n",
      "g_value = g_p(p) = 22504.301318157017\n",
      "g_value = g_p(p) = 22504.30174980168\n",
      "g_value = g_p(p) = 22504.301955078245\n",
      "g_value = g_p(p) = 22504.302052702733\n",
      "g_value = g_p(p) = 22504.302099130877\n",
      "g_value = g_p(p) = 22504.302121211407\n",
      "g_value = g_p(p) = 22504.30213171251\n",
      "g_value = g_p(p) = 22504.30213670657\n",
      "g_value = g_p(p) = 22504.302139081607\n",
      "g_value = g_p(p) = 22504.30214021122\n",
      "g_value = g_p(p) = 22504.302140748434\n",
      "g_value = g_p(p) = 22504.302141003936\n",
      "g_value = g_p(p) = 22504.30214112545\n",
      "g_value = g_p(p) = 22504.302141183285\n",
      "g_value = g_p(p) = 22504.30214121081\n",
      "g_value = g_p(p) = 22504.302141223907\n",
      "g_value = g_p(p) = 22504.302141230153\n",
      "g_value = g_p(p) = 22504.302141233115\n",
      "g_value = g_p(p) = 22504.302141234493\n",
      "g_value = g_p(p) = 22504.302141235232\n",
      "g_value = g_p(p) = 22504.302141235483\n",
      "g_value = g_p(p) = 22504.30214123567\n",
      "g_value = g_p(p) = 22504.30214123583\n",
      "g_value = g_p(p) = 22504.30214123588\n",
      "g_value = g_p(p) = 22504.302141235847\n",
      "g_value = g_p(p) = 22504.30214123586\n",
      "g_value = g_p(p) = 22504.302141235858\n",
      "g_value = g_p(p) = 22504.302141235858\n",
      "g_value = g_p(p) = 22504.30214123595\n",
      "g_value = g_p(p) = 22504.302141235952\n",
      "g_value = g_p(p) = 22504.30214123607\n",
      "g_value = g_p(p) = 22504.30214123603\n",
      "g_value = g_p(p) = 22504.302141236054\n",
      "g_value = g_p(p) = 22504.30214123599\n",
      "g_value = g_p(p) = 22504.302141236058\n",
      "g_value = g_p(p) = 22504.302141235916\n",
      "g_value = g_p(p) = 22504.30214123603\n",
      "g_value = g_p(p) = 22504.302141236047\n",
      "g_value = g_p(p) = 22504.30214123603\n",
      "g_value = g_p(p) = 22504.302141235985\n",
      "g_value = g_p(p) = 22504.30214123594\n",
      "g_value = g_p(p) = 22504.30214123604\n",
      "g_value = g_p(p) = 22504.30214123607\n"
     ]
    },
    {
     "data": {
      "text/plain": [
       "1-element Array{String,1}:\n",
       " \"demo.vtu\""
      ]
     },
     "execution_count": 6,
     "metadata": {},
     "output_type": "execute_result"
    }
   ],
   "source": [
    "# Filter and threshold paramters\n",
    "r = l_d*1.0      # Filter radius\n",
    "β = 50.0          # β∈[1,∞], threshold sharpness\n",
    "η = 0.5          # η∈[0,1], threshold center\n",
    "\n",
    "# Loss control\n",
    "α = 0.           # α∈[0,∞], controls the material loss\n",
    "\n",
    "opt = Opt(:LD_MMA, np)\n",
    "opt.lower_bounds = 0.0\n",
    "opt.upper_bounds = 1.0\n",
    "opt.ftol_rel = 1e-3\n",
    "opt.maxeval = 500\n",
    "opt.max_objective = g_p\n",
    "\n",
    "(g_opt,p_opt,ret) = optimize(opt, rand(np))\n",
    "#(g_opt,p_opt,ret) = optimize(opt, p)\n",
    "numevals = opt.numevals # the number of function evaluations\n",
    "\n",
    "# Display u and ε\n",
    "p = p_opt\n",
    "pf = pf_p(p)\n",
    "uvec = u_pf(pf)\n",
    "ϵ0 = ϵ_1 + (ϵ_2-ϵ_1)*FEFunction(P,p_vec(p,P,tags,design_tag))\n",
    "ϵt = ϵ_1 + (ϵ_2-ϵ_1)*Threshold(β,η,FEFunction(Pf,pf))\n",
    "writevtk(trian,\"demo\",cellfields=[\"ϵ0\"=>ϵ0,\"ϵt\"=>ϵt,\"Real\"=>FEFunction(U,real(uvec)),\"imag\"=>FEFunction(U,imag(uvec)),\"Norm\"=>FEFunction(U,sqrt.(real(uvec).^2+imag(uvec).^2))])\n"
   ]
  },
  {
   "cell_type": "code",
   "execution_count": null,
   "metadata": {},
   "outputs": [],
   "source": [
    "using Richardson\n",
    "p0 = zeros(np)\n",
    "δp = rand(np)\n",
    "extrapolate(δp*0.1, rtol=0) do h\n",
    "    @show norm(h)\n",
    "    (g_p(h)-g_p(p0)) / norm(h)\n",
    "end"
   ]
  },
  {
   "cell_type": "code",
   "execution_count": null,
   "metadata": {},
   "outputs": [],
   "source": [
    "dgdp=zeros(np)\n",
    "g_p(p0,dgdp)\n",
    "dgdp'*δp/norm(δp)"
   ]
  },
  {
   "cell_type": "code",
   "execution_count": null,
   "metadata": {},
   "outputs": [],
   "source": [
    "g_p(rand(np))"
   ]
  },
  {
   "cell_type": "code",
   "execution_count": null,
   "metadata": {},
   "outputs": [],
   "source": []
  }
 ],
 "metadata": {
  "kernelspec": {
   "display_name": "Julia 1.5.2",
   "language": "julia",
   "name": "julia-1.5"
  },
  "language_info": {
   "file_extension": ".jl",
   "mimetype": "application/julia",
   "name": "julia",
   "version": "1.5.2"
  }
 },
 "nbformat": 4,
 "nbformat_minor": 4
}
