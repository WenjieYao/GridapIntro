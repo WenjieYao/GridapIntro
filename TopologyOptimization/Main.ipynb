{
 "cells": [
  {
   "cell_type": "markdown",
   "metadata": {},
   "source": [
    "The computation cell is illustrated below---a rectangular domain with PML boundaries and a small design region at the center.\n",
    "\n",
    "<img src=\"ComputationCell.png\" alt=\"Drawing\" style=\"width: 600px;\"/>"
   ]
  },
  {
   "cell_type": "code",
   "execution_count": 39,
   "metadata": {},
   "outputs": [
    {
     "name": "stdout",
     "output_type": "stream",
     "text": [
      "Info    : No current model available: creating one\n",
      "Info    : Clearing all models and views...\n",
      "Info    : Done clearing all models and views\n",
      "Info    : Meshing 1D...\n",
      "Info    : Meshing curve 1 (Line)\n",
      "Info    : Meshing curve 2 (Line)\n",
      "Info    : Meshing curve 3 (Line)\n",
      "Info    : Meshing curve 4 (Line)\n",
      "Info    : Meshing curve 5 (Line)\n",
      "Info    : Meshing curve 6 (Line)\n",
      "Info    : Meshing curve 7 (Line)\n",
      "Info    : Meshing curve 8 (Line)\n",
      "Info    : Meshing curve 9 (Line)\n",
      "Info    : Meshing curve 10 (Line)\n",
      "Info    : Meshing curve 11 (Line)\n",
      "Info    : Meshing curve 12 (Line)\n",
      "Info    : Meshing curve 13 (Line)\n",
      "Info    : Meshing curve 14 (Line)\n",
      "Info    : Meshing curve 15 (Line)\n",
      "Info    : Meshing curve 16 (Line)\n",
      "Info    : Meshing curve 17 (Line)\n",
      "Info    : Meshing curve 18 (Line)\n",
      "Info    : Meshing curve 19 (Line)\n",
      "Info    : Meshing curve 20 (Line)\n",
      "Info    : Meshing curve 21 (Line)\n",
      "Info    : Meshing curve 22 (Line)\n",
      "Info    : Meshing curve 23 (Line)\n",
      "Info    : Meshing curve 24 (Line)\n",
      "Info    : Meshing curve 25 (Line)\n",
      "Info    : Meshing curve 26 (Line)\n",
      "Info    : Meshing curve 27 (Line)\n",
      "Info    : Meshing curve 28 (Line)\n",
      "Info    : Meshing curve 29 (Circle)\n",
      "Info    : Meshing curve 30 (Circle)\n",
      "Info    : Done meshing 1D (0.005539 s)\n",
      "Info    : Meshing 2D...\n",
      "Info    : Meshing surface 1 (Plane, Frontal)\n",
      "Info    : Meshing surface 2 (Plane, Frontal)\n",
      "Info    : Meshing surface 3 (Plane, Frontal)\n",
      "Info    : Meshing surface 4 (Plane, Frontal)\n",
      "Info    : Meshing surface 5 (Plane, Frontal)\n",
      "Info    : Meshing surface 6 (Plane, Frontal)\n",
      "Info    : Meshing surface 7 (Plane, Frontal)\n",
      "Info    : Meshing surface 8 (Plane, Frontal)\n",
      "Info    : Meshing surface 9 (Plane, Frontal)\n",
      "Info    : Meshing surface 10 (Plane, Frontal)\n",
      "Info    : Meshing surface 11 (Plane, Frontal)\n",
      "Info    : Done meshing 2D (0.455112 s)\n",
      "Info    : 13401 vertices 27341 elements\n",
      "Info    : Writing 't2.msh'...\n",
      "Info    : Done writing 't2.msh'\n",
      "Info    : No current model available: creating one\n",
      "Info    : Reading 't2.msh'...\n",
      "Info    : 64 entities\n",
      "Info    : 13400 nodes\n",
      "Info    : 27094 elements\n",
      "Info    : Done reading 't2.msh'\n"
     ]
    },
    {
     "data": {
      "text/plain": [
       "g_p (generic function with 2 methods)"
      ]
     },
     "execution_count": 39,
     "metadata": {},
     "output_type": "execute_result"
    }
   ],
   "source": [
    "using Gmsh\n",
    "using Gridap\n",
    "using GridapGmsh\n",
    "using SparseArrays\n",
    "using Gridap.Geometry\n",
    "using ChainRules\n",
    "using Zygote\n",
    "using NLopt\n",
    "import Gmsh: gmsh\n",
    "import ChainRules: rrule\n",
    "\n",
    "Gridap.outer(a::Number,b::Number) = a * b\n",
    "Gridap.Helpers.operate(::typeof(tanh),x::Float64)=tanh(x)\n",
    "\n",
    "include(\"MeshGenerator.jl\")\n",
    "include(\"PML.jl\")\n",
    "include(\"Helper.jl\")\n",
    "include(\"FilterAndThreshold.jl\")\n",
    "\n",
    "# Physical parameters \n",
    "λ = 1.0          # Wavelength (arbitrary unit)\n",
    "k = 2*π/λ        # Wave number \n",
    "ω = k            # c=1\n",
    "ϵ_1 = 1.0        # Relative electric permittivity for material 1\n",
    "ϵ_2 = 3.0        # Relative electric permittivity for material 2\n",
    "μ = 1.0          # Relative magnetic permeability for all materials\n",
    "\n",
    "# Geometry parameters of the mesh\n",
    "L = 4.0          # Length of the normal region\n",
    "H = 4.0          # Height of the normal region\n",
    "d_pml = 0.8      # Thickness of the PML\n",
    "L_d = L/2        # Length of the design region\n",
    "H_d = H/5        # Height of the design region\n",
    "r_t = L/40       # Radius of the target circle\n",
    "y_t = -(H_d+H)/4 # y-position of the target circle (x fixed to 0)\n",
    "LH = [L,H]\n",
    "\n",
    "# Characteristic length (controls the resolution, smaller the finer)\n",
    "resol = 10       # Number of points per wavelength\n",
    "l_0 = λ/resol    # Normal region\n",
    "l_d = l_0/5      # Design region\n",
    "l_pml = 2*l_0    # PML \n",
    "\n",
    "# Point source location\n",
    "pos = [0.0,H/2.0*0.9]\n",
    "δ = λ/resol      # Gaussian point source width\n",
    "I = 1e4\n",
    "\n",
    "# PML parameters\n",
    "R = 1e-4         # Tolerence for PML reflection \n",
    "σ = -3/4*log(R)/d_pml/sqrt(ϵ_1)\n",
    "\n",
    "# Generate mesh\n",
    "MeshGenerator(L,H,L_d,H_d,r_t,y_t,d_pml,l_0,l_d,l_pml)\n",
    "include(\"GridapSetup.jl\")\n",
    "include(\"Objective.jl\")"
   ]
  },
  {
   "cell_type": "code",
   "execution_count": 43,
   "metadata": {},
   "outputs": [
    {
     "name": "stdout",
     "output_type": "stream",
     "text": [
      "g_value = g_p(p) = 21250.6650438623\n",
      "g_value = g_p(p) = 20510.533270764383\n",
      "g_value = g_p(p) = 21508.076530127437\n",
      "g_value = g_p(p) = 21969.711774371925\n",
      "g_value = g_p(p) = 22109.98413390885\n",
      "g_value = g_p(p) = 22141.068538867148\n",
      "g_value = g_p(p) = 22153.60620989059\n",
      "g_value = g_p(p) = 22159.13404732793\n",
      "g_value = g_p(p) = 22161.66153121595\n",
      "g_value = g_p(p) = 22162.83985327816\n",
      "g_value = g_p(p) = 22163.39316494492\n",
      "g_value = g_p(p) = 22163.653851369836\n",
      "g_value = g_p(p) = 22163.77686080061\n",
      "g_value = g_p(p) = 22163.83494876188\n",
      "g_value = g_p(p) = 22163.86238887157\n",
      "g_value = g_p(p) = 22163.87535341963\n",
      "g_value = g_p(p) = 22163.881479220287\n",
      "g_value = g_p(p) = 22163.88437379248\n",
      "g_value = g_p(p) = 22163.885741563707\n",
      "g_value = g_p(p) = 22163.886387881616\n",
      "g_value = g_p(p) = 22163.886693289798\n",
      "g_value = g_p(p) = 22163.886837606162\n",
      "g_value = g_p(p) = 22163.886905801002\n",
      "g_value = g_p(p) = 22163.886938025516\n",
      "g_value = g_p(p) = 22163.886953252913\n",
      "g_value = g_p(p) = 22163.886960448315\n",
      "g_value = g_p(p) = 22163.886963848403\n",
      "g_value = g_p(p) = 22163.8869654551\n",
      "g_value = g_p(p) = 22163.886966214337\n",
      "g_value = g_p(p) = 22163.886966573064\n",
      "g_value = g_p(p) = 22163.88696674255\n",
      "g_value = g_p(p) = 22163.886966822767\n",
      "g_value = g_p(p) = 22163.88696686056\n",
      "g_value = g_p(p) = 22163.88696687858\n",
      "g_value = g_p(p) = 22163.886966886934\n",
      "g_value = g_p(p) = 22163.88696689104\n",
      "g_value = g_p(p) = 22163.88696689283\n",
      "g_value = g_p(p) = 22163.886966893715\n",
      "g_value = g_p(p) = 22163.8869668942\n",
      "g_value = g_p(p) = 22163.886966894454\n",
      "g_value = g_p(p) = 22163.886966894475\n",
      "g_value = g_p(p) = 22163.88696689461\n",
      "g_value = g_p(p) = 22163.88696689464\n",
      "g_value = g_p(p) = 22163.88696689465\n",
      "g_value = g_p(p) = 22163.886966894654\n",
      "g_value = g_p(p) = 22163.886966894566\n",
      "g_value = g_p(p) = 22163.886966894686\n",
      "g_value = g_p(p) = 22163.886966894723\n",
      "g_value = g_p(p) = 22163.88696689479\n",
      "g_value = g_p(p) = 22163.886966894755\n",
      "g_value = g_p(p) = 22163.88696689484\n"
     ]
    },
    {
     "data": {
      "text/plain": [
       "1-element Array{String,1}:\n",
       " \"demo.vtu\""
      ]
     },
     "execution_count": 43,
     "metadata": {},
     "output_type": "execute_result"
    }
   ],
   "source": [
    "# Filter and threshold paramters\n",
    "r = l_d*1.0      # Filter radius\n",
    "β = 10.0          # β∈[1,∞], threshold sharpness\n",
    "η = 0.5          # η∈[0,1], threshold center\n",
    "\n",
    "# Loss control\n",
    "α = 0.\n",
    "\n",
    "opt = Opt(:LD_MMA, np)\n",
    "opt.lower_bounds = 0.0\n",
    "opt.upper_bounds = 1.0\n",
    "opt.ftol_rel = 1e-3\n",
    "opt.maxeval = 500\n",
    "opt.max_objective = g_p\n",
    "\n",
    "#(g_opt,p_opt,ret) = optimize(opt, rand(np))\n",
    "(g_opt,p_opt,ret) = optimize(opt, p)\n",
    "numevals = opt.numevals # the number of function evaluations\n",
    "\n",
    "# Display u and ε\n",
    "p = p_opt\n",
    "pf = pf_p(p)\n",
    "uvec = u_pf(pf)\n",
    "ϵ0 = ϵ_1 + (ϵ_2-ϵ_1)*FEFunction(P,p_vec(p,P,tags,design_tag))\n",
    "ϵt = ϵ_1 + (ϵ_2-ϵ_1)*Threshold(β,η,FEFunction(Pf,pf))\n",
    "writevtk(trian,\"demo\",cellfields=[\"ϵ0\"=>ϵ0,\"ϵt\"=>ϵt,\"Real\"=>FEFunction(U,real(uvec)),\"imag\"=>FEFunction(U,imag(uvec)),\"Norm\"=>FEFunction(U,sqrt.(real(uvec).^2+imag(uvec).^2))])\n"
   ]
  },
  {
   "cell_type": "code",
   "execution_count": 26,
   "metadata": {},
   "outputs": [
    {
     "name": "stdout",
     "output_type": "stream",
     "text": [
      "norm(h) = 5.526855856115665\n",
      "norm(h) = 0.6908569820144581\n",
      "norm(h) = 0.08635712275180726\n",
      "norm(h) = 0.010794640343975908\n",
      "norm(h) = 0.0013493300429969885\n",
      "norm(h) = 0.00016866625537462356\n"
     ]
    },
    {
     "data": {
      "text/plain": [
       "(-2.659018663252036, 2.4552111455022896e-9)"
      ]
     },
     "execution_count": 26,
     "metadata": {},
     "output_type": "execute_result"
    }
   ],
   "source": [
    "using Richardson\n",
    "p0 = zeros(np)\n",
    "δp = rand(np)\n",
    "extrapolate(δp*0.1, rtol=0) do h\n",
    "    @show norm(h)\n",
    "    (g_p(h)-g_p(p0)) / norm(h)\n",
    "end"
   ]
  },
  {
   "cell_type": "code",
   "execution_count": 27,
   "metadata": {},
   "outputs": [
    {
     "name": "stdout",
     "output_type": "stream",
     "text": [
      "g_value = g_p(p) = 974.197420080274\n"
     ]
    },
    {
     "data": {
      "text/plain": [
       "-2.6204661897568906"
      ]
     },
     "execution_count": 27,
     "metadata": {},
     "output_type": "execute_result"
    }
   ],
   "source": [
    "dgdp=zeros(np)\n",
    "g_p(p0,dgdp)\n",
    "dgdp'*δp/norm(δp)"
   ]
  },
  {
   "cell_type": "code",
   "execution_count": 12,
   "metadata": {},
   "outputs": [
    {
     "data": {
      "text/plain": [
       "2.8485431038251677e-5"
      ]
     },
     "execution_count": 12,
     "metadata": {},
     "output_type": "execute_result"
    }
   ],
   "source": [
    "g_p(rand(np))"
   ]
  },
  {
   "cell_type": "code",
   "execution_count": null,
   "metadata": {},
   "outputs": [],
   "source": []
  }
 ],
 "metadata": {
  "kernelspec": {
   "display_name": "Julia 1.5.1",
   "language": "julia",
   "name": "julia-1.5"
  },
  "language_info": {
   "file_extension": ".jl",
   "mimetype": "application/julia",
   "name": "julia",
   "version": "1.5.1"
  }
 },
 "nbformat": 4,
 "nbformat_minor": 4
}
