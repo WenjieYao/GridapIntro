{
 "cells": [
  {
   "cell_type": "markdown",
   "metadata": {},
   "source": [
    "The computation cell is illustrated below---a rectangular domain with PML boundaries and a small design region at the center.\n",
    "\n",
    "<img src=\"ComputationCell.png\" alt=\"Drawing\" style=\"width: 600px;\"/>"
   ]
  },
  {
   "cell_type": "code",
   "execution_count": null,
   "metadata": {},
   "outputs": [],
   "source": [
    "using Gmsh\n",
    "using Gridap\n",
    "using GridapGmsh\n",
    "using SparseArrays\n",
    "using Gridap.Geometry\n",
    "using ChainRules\n",
    "using Zygote\n",
    "using NLopt\n",
    "import Gmsh: gmsh\n",
    "import ChainRules: rrule\n",
    "\n",
    "Gridap.outer(a::Number,b::Number) = a * b\n",
    "Gridap.Helpers.operate(::typeof(tanh),x::Float64)=tanh(x)\n",
    "\n",
    "include(\"MeshGenerator.jl\")\n",
    "include(\"PML.jl\")\n",
    "include(\"Helper.jl\")\n",
    "include(\"FilterAndThreshold.jl\")\n",
    "\n",
    "# Physical parameters \n",
    "λ = 1.0          # Wavelength (arbitrary unit)\n",
    "k = 2*π/λ        # Wave number \n",
    "ω = k            # c=1\n",
    "ϵ_1 = 1.0        # Relative electric permittivity for material 1\n",
    "ϵ_2 = 3.0        # Relative electric permittivity for material 2\n",
    "μ = 1.0          # Relative magnetic permeability for all materials\n",
    "\n",
    "# Geometry parameters of the mesh\n",
    "L = 4.0          # Length of the normal region\n",
    "H = 4.0          # Height of the normal region\n",
    "d_pml = 0.8      # Thickness of the PML\n",
    "L_d = L/2        # Length of the design region\n",
    "H_d = H/5        # Height of the design region\n",
    "r_t = L/40       # Radius of the target circle\n",
    "y_t = -(H_d+H)/4 # y-position of the target circle (x fixed to 0)\n",
    "LH = [L,H]\n",
    "\n",
    "# Characteristic length (controls the resolution, smaller the finer)\n",
    "resol = 10       # Number of points per wavelength\n",
    "l_0 = λ/resol    # Normal region\n",
    "l_d = l_0/5      # Design region\n",
    "l_pml = 2*l_0    # PML \n",
    "\n",
    "# Point source location\n",
    "pos = [0.0,H/2.0*0.9]\n",
    "δ = λ/resol      # Gaussian point source width\n",
    "I = 1e4\n",
    "\n",
    "# PML parameters\n",
    "R = 1e-4         # Tolerence for PML reflection \n",
    "σ = -3/4*log(R)/d_pml/sqrt(ϵ_1)\n",
    "\n",
    "# Generate mesh\n",
    "MeshGenerator(L,H,L_d,H_d,r_t,y_t,d_pml,l_0,l_d,l_pml)\n",
    "include(\"GridapSetup.jl\")\n",
    "include(\"Objective.jl\")"
   ]
  },
  {
   "cell_type": "code",
   "execution_count": null,
   "metadata": {},
   "outputs": [],
   "source": [
    "# Filter and threshold paramters\n",
    "r = l_d*1.0      # Filter radius\n",
    "β = 10.0          # β∈[1,∞], threshold sharpness\n",
    "η = 0.5          # η∈[0,1], threshold center\n",
    "\n",
    "# Loss control\n",
    "α = 0.\n",
    "\n",
    "opt = Opt(:LD_MMA, np)\n",
    "opt.lower_bounds = 0.0\n",
    "opt.upper_bounds = 1.0\n",
    "opt.ftol_rel = 1e-3\n",
    "opt.maxeval = 500\n",
    "opt.max_objective = g_p\n",
    "\n",
    "#(g_opt,p_opt,ret) = optimize(opt, rand(np))\n",
    "(g_opt,p_opt,ret) = optimize(opt, p)\n",
    "numevals = opt.numevals # the number of function evaluations\n",
    "\n",
    "# Display u and ε\n",
    "p = p_opt\n",
    "pf = pf_p(p)\n",
    "uvec = u_pf(pf)\n",
    "ϵ0 = ϵ_1 + (ϵ_2-ϵ_1)*FEFunction(P,p_vec(p,P,tags,design_tag))\n",
    "ϵt = ϵ_1 + (ϵ_2-ϵ_1)*Threshold(β,η,FEFunction(Pf,pf))\n",
    "writevtk(trian,\"demo\",cellfields=[\"ϵ0\"=>ϵ0,\"ϵt\"=>ϵt,\"Real\"=>FEFunction(U,real(uvec)),\"imag\"=>FEFunction(U,imag(uvec)),\"Norm\"=>FEFunction(U,sqrt.(real(uvec).^2+imag(uvec).^2))])\n"
   ]
  },
  {
   "cell_type": "code",
   "execution_count": null,
   "metadata": {},
   "outputs": [],
   "source": [
    "using Richardson\n",
    "p0 = zeros(np)\n",
    "δp = rand(np)\n",
    "extrapolate(δp*0.1, rtol=0) do h\n",
    "    @show norm(h)\n",
    "    (g_p(h)-g_p(p0)) / norm(h)\n",
    "end"
   ]
  },
  {
   "cell_type": "code",
   "execution_count": null,
   "metadata": {},
   "outputs": [],
   "source": [
    "dgdp=zeros(np)\n",
    "g_p(p0,dgdp)\n",
    "dgdp'*δp/norm(δp)"
   ]
  },
  {
   "cell_type": "code",
   "execution_count": null,
   "metadata": {},
   "outputs": [],
   "source": [
    "g_p(rand(np))"
   ]
  },
  {
   "cell_type": "code",
   "execution_count": null,
   "metadata": {},
   "outputs": [],
   "source": []
  }
 ],
 "metadata": {
  "kernelspec": {
   "display_name": "Julia 1.5.1",
   "language": "julia",
   "name": "julia-1.5"
  },
  "language_info": {
   "file_extension": ".jl",
   "mimetype": "application/julia",
   "name": "julia",
   "version": "1.5.1"
  }
 },
 "nbformat": 4,
 "nbformat_minor": 4
}
